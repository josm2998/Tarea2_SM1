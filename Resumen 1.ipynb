{
 "cells": [
  {
   "cell_type": "markdown",
   "metadata": {},
   "source": [
    "Durante el año 2018 Python se coronó como uno de los tres lenguajes de programación más utilizados, ganando 3.62 puntos año tras año en el índice Tiobe de enero del 2019. Esto lo colocó en tercer lugar, por encima de lenguajes como JavaScript y visual Basic .NET.\n",
    "\n",
    "Python logró entrar en este top debido al creciente número de campos en donde es utilizado, ya que como se muestra en el índice es el primer lenguaje enseñado en las universidades, así como el lenguaje predeterminado en análisis estadístico, programación web, computación científica, aprendizaje automático. \n",
    "\n",
    "De la misma manera es muy popular con los hackers debido a su sintaxis fácil de entender, un gran número de tutoriales disponibles y una abrumadora cantidad de librerías de software inofensivo de terceros que puede ser reutilizado con fines malvados, como inyectar un virus.\n",
    "\n",
    "Los empleadores de este lenguaje deben estar atentos con sus proyectos realizados en Python 2, debido a que este dejará de contar con soporte para inicios del 2020, es decir, el 1 de enero de dicho año. Por lo que deberán mover estos proyectos a la nueva versión Python 2, para seguir obteniendo soporte oficial y gratuito.\n",
    "\n",
    "Sin embargo, no fue el único lenguaje que escalo en esta lista, otros con una significante ganancia de puntos y por consiguiente obtención de un mejor puesto fueron, Matlab que escalo del lugar 18 al 11, Kotlin del 39 al 31 y TypeScript del 167 al 49. Por otro lado, otros decayeron de puestos, como Ruby, que cayó del 11 al 18 y Alice, cuya caída fue del 26 al 66. \n"
   ]
  },
  {
   "cell_type": "code",
   "execution_count": null,
   "metadata": {},
   "outputs": [],
   "source": []
  }
 ],
 "metadata": {
  "kernelspec": {
   "display_name": "Python 3",
   "language": "python",
   "name": "python3"
  },
  "language_info": {
   "codemirror_mode": {
    "name": "ipython",
    "version": 3
   },
   "file_extension": ".py",
   "mimetype": "text/x-python",
   "name": "python",
   "nbconvert_exporter": "python",
   "pygments_lexer": "ipython3",
   "version": "3.7.3"
  }
 },
 "nbformat": 4,
 "nbformat_minor": 2
}
