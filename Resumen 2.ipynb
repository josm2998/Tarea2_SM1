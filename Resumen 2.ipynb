{
 "cells": [
  {
   "cell_type": "markdown",
   "metadata": {},
   "source": [
    "Python es el lenguaje de programación de más rápido crecimiento del mundo, incrementando su uso en distintas áreas de trabajo y de base de datos en muchas industrias. Pero ¿de donde surge toda esta popularidad? Esto es debido a distintas razones, como se menciono anteriormente, cuenta con una robusta librería que hace que este lenguaje sea muy dinámico y rápido. de programar. Además, permite desde crear un sitio web, lanza una aplicación, hasta crear diferentes tipos de modelos de datos. \n",
    "\n",
    "Python es fácil de aprender, además de que su sintaxis es confiable y simple, haciéndola amistosa para nuevos programadores. Además, debido al gran impulso que ha tenido la inteligencia artificial y el aprendizaje automático, por consiguiente, Python ha tenido un gran empujón, ya que es un lenguaje en donde se pueden encontrar herramientas útiles para su desarrollo. Finalmente, su amplia y amigable comunidad, ocasiona que haya una gran fuente de código de donde\n"
   ]
  }
 ],
 "metadata": {
  "kernelspec": {
   "display_name": "Python 3",
   "language": "python",
   "name": "python3"
  },
  "language_info": {
   "codemirror_mode": {
    "name": "ipython",
    "version": 3
   },
   "file_extension": ".py",
   "mimetype": "text/x-python",
   "name": "python",
   "nbconvert_exporter": "python",
   "pygments_lexer": "ipython3",
   "version": "3.7.3"
  }
 },
 "nbformat": 4,
 "nbformat_minor": 2
}
