{
 "cells": [
  {
   "cell_type": "markdown",
   "metadata": {},
   "source": [
    "# Diseño de una  síntesis óptima de nanoalambres\n",
    "\n",
    "## Objetivos\n",
    "\n",
    "### Objetivo General\n",
    "\n",
    "Determinar las cantidades óptimas de reactivos en una síntesis de nanoalambres para obtener un menor costo.\n",
    "\n",
    "### Objetivos Específicos\n",
    "\n",
    "1. Obtener un mejor rendimiento en la reacción, es decir, un mayor número de nanoalambres.\n",
    "2. Encontrar el equilibrio entre compuestos, considerando la estequiometría de las reacciones y evitar la aglomeración de partículas."
   ]
  },
  {
   "cell_type": "markdown",
   "metadata": {},
   "source": [
    " ## Planteamiento del Problema\n",
    "\n",
    "Se quiere realizar una síntesis de nanopartículas de plata de la manera menos costosa y produciendo la mayor cantidad de nanoalambres posibles. Por lo que se quiere variar la cantidad de cada reactivo necesario para cumplir con las cantidades mínimas encontradas en artículo cientifíco en el que se basa la síntesis, con el fin de obtener un resultado óptimo. La intención es tener al menos $50.0g$ de NPs de plata.\n",
    "\n",
    "De acuerdo con Yugang S. *et al* (2002) los reactivos a utilizar son PVP, etilenglicol y nitrato de plata. Sin embargo, para aminorar costos, se diseñará una síntesis añadiendo una segunda fuente de plata (cloruro de plata). Para evitar la formación de compuestos secundarios de plata, se añade hidróxido de sodio para buscar que la plata se encuentre sola y se obtenga la nucleación deseada de las nanopartículas.\n",
    "\n",
    "Al estar en solución, las sales de plata se ionizarán, el PVP encerrará a la plata para favorecer su nucleación y controlar tamaño, el sodio evitará que los nitratos y cloruros regresen con la plata mientras que el hidróxido mantendrá un pH alto para favorecer la formación de nanopartículas. Esto en un medio de etilenglicol. Para esto, se debe considerar que el sodio debe ser suficiente para reaccionar con nitratos y cloruros, y que, aunque el cloruro de plata sea una fuente de plata, para no afectar el rendimiento de la reacción reportado por Yugang *et al* (2002), el nitrato de plata debe ser agregado en mayor cantidad que el cloruro de plata.\n",
    "\n",
    "\n",
    "Los porcentajes que contienen cada reactivo se pueden encontrar en la siguiente tabla:\n",
    "\n",
    "Reactivo|Plata|Cloro|Nitrato|Sodio|PVP|EG|\n",
    ":----|----|----|----|----|----|----\n",
    "Nitrato de plata ($AgNO_3$)|63.5%|0%|36.5%|0%|0%|0%\n",
    "Cloruro de plata ($AgCI$)|75.26%| 24.74%|0%|0%|0%|0%\n",
    "Hidroxido de Sodio ($NaOH$)|0%|0%|0%|57.48%|0%|0%\n",
    "PVP|  0%|0%|0%|0%|100%|0%\n",
    "Etilengilicol|0%|0%|0%|0%|0%|100%\n",
    "\n",
    "\n",
    "Los costos de cada reactivo son:\n",
    "\n",
    "Reactivo|Costo por gramo|\n",
    ":----|----\n",
    "Nitrato de plata ($AgNO_3$)|$\\$46$\n",
    "Cloruro de plata ($AgCI$)|$\\$26.89$\n",
    "Hidroxido de Sodio ($NaOH$)|$\\$0.4796$\n",
    "PVP|$\\$.0817$\n",
    "Etilengilicol|$\\$.0225$\n",
    "\n",
    "Las variables a utilizar se pueden representar por:\n",
    "\n",
    "+ $x_1:$ Gramos de Nitrato de plata ($AgNO_3$)  \n",
    "+ $x_2:$ Gramos de Cloruro de plata  \n",
    "+ $x_3:$ Gramos de Hidroxido de sodio\n",
    "+ $x_4:$ Gramos de PVP\n",
    "+ $x_5:$ Gramos de Etilengilicol"
   ]
  },
  {
   "cell_type": "markdown",
   "metadata": {},
   "source": [
    "Con base a los costos la función a optimizar es:\n",
    "\n",
    "$46x_1+26.89x_2+0.4796x_3+0.0817x_4+0.0225x_5$\n",
    "\n",
    "Mientras que las restricciones se representan con:\n",
    "\n",
    "+ $.635x_1+.7526x_2 \\geq 50$\n",
    "+ $2474x_1+.365x_2-.5748x_3 \\leq 0$\n",
    "+ $x_4 \\geq 156.972$\n",
    "+ $x_5 \\geq 4635$\n",
    "+ $-x_1+x_2\\leq 0$\n"
   ]
  },
  
  {
   "cell_type": "code",
   "execution_count": 1,
   "metadata": {},
   "outputs": [],
   "source": [
    "import matplotlib.pyplot as plt\n",
    "%matplotlib inline\n",
    "\n",
    "import numpy as np \n",
    "import scipy.optimize as opt"
   ]
  },
  {
   "cell_type": "code",
   "execution_count": 2,
   "metadata": {},
   "outputs": [],
   "source": [
    "c=np.array([46,26.89,.4796,.0817,.0225])\n",
    "A_ub=np.array([[-.635,-.7526,0,0,0],\n",
    "               [.2474,.365,-.5748,0,0],\n",
    "               [0,0,0,-1,0],\n",
    "               [0,0,0,0,-1],\n",
    "               [-1,1,0,0,0]])\n",
    "b_ub=np.array([-50,0,-156.972,-4635,0])"
   ]
  },
  {
   "cell_type": "code",
   "execution_count": 3,
   "metadata": {},
   "outputs": [
    {
     "data": {
      "text/plain": [
       "     con: array([], dtype=float64)\n",
       "     fun: 2762.0015827721377\n",
       " message: 'Optimization terminated successfully.'\n",
       "     nit: 3\n",
       "   slack: array([0.00000000e+00, 0.00000000e+00, 0.00000000e+00, 0.00000000e+00,\n",
       "       7.10542736e-15])\n",
       "  status: 0\n",
       " success: True\n",
       "       x: array([  36.03343903,   36.03343903,   38.39053247,  156.972     ,\n",
       "       4635.        ])"
      ]
     },
     "execution_count": 3,
     "metadata": {},
     "output_type": "execute_result"
    }
   ],
   "source": [
    "solucion_sintesis=opt.linprog(c,A_ub,b_ub)\n",
    "solucion_sintesis"
   ]
  },
  {
   "cell_type": "code",
   "execution_count": 4,
   "metadata": {},
   "outputs": [
    {
     "data": {
      "text/plain": [
       "array([  36.03343903,   36.03343903,   38.39053247,  156.972     ,\n",
       "       4635.        ])"
      ]
     },
     "execution_count": 4,
     "metadata": {},
     "output_type": "execute_result"
    }
   ],
   "source": [
    "solucion_sintesis.x"
   ]
  },
  {
   "cell_type": "markdown",
   "metadata": {},
   "source": [
    "Conclusiones: Analizando los resultados, se puede concluir que las cantidades necesarias para tener una síntesis más eficaz y económica son 36.00 gramos de Nitrato de plata ($AgNO_3$), 36.00 gramos de Cloruro de plata ($AgCl$), 38.40 gramos de Hidroxido de Sodio ($NaOH$), 156.97 gramos de PVP, y 4635 gramos de etilengilicol.\n",
    "\n",
    "Para no afectar de manera significante el rendimiento de la reacción (incluido en las restricciones), el programa recomienda añadir nitrato de plata en igual cantidad que el cloruro de plata, siendo $36.00g$ de nitrato la cantidad mínima que cumple con las restricciones de minimizar el costo y agregarse en igual cantidad que el cloruro de plata.\n",
    "\n",
    "El costo mínimo de la reacción es de $\\$2762.00$, para obtener $50.0g$ de nanopartículas de plata."
    "\n"
     "Bibliografía: Sun, Y., Yin, Y., Mayers, B. T., Herricks, T., & Xia, Y. (2002). Uniform Silver Nanowires Synthesis by Reducing AgNO3 with Ethylene Glycol in the Presence of Seeds and Poly(Vinyl Pyrrolidone). Chemistry of Materials, 14(11), 4736–4745."
   ]
  }
 ],
 "metadata": {
  "kernelspec": {
   "display_name": "Python 3",
   "language": "python",
   "name": "python3"
  },
  "language_info": {
   "codemirror_mode": {
    "name": "ipython",
    "version": 3
   },
   "file_extension": ".py",
   "mimetype": "text/x-python",
   "name": "python",
   "nbconvert_exporter": "python",
   "pygments_lexer": "ipython3",
   "version": "3.7.3"
  }
 },
 "nbformat": 4,
 "nbformat_minor": 2
}
